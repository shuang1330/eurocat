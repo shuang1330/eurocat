{
 "cells": [
  {
   "cell_type": "code",
   "execution_count": 77,
   "metadata": {},
   "outputs": [],
   "source": [
    "import pandas as pd\n",
    "import numpy as np\n",
    "import statsmodels.api as sm\n",
    "from statsmodels.stats.multitest import multipletests\n",
    "from lxml import etree\n",
    "\n",
    "def find_upmost_parent(element, parent_list):\n",
    "    if element.tag in parent_list:\n",
    "        res = element.tag\n",
    "    elif element.getparent().tag in parent_list:\n",
    "        res = element.getparent().tag\n",
    "    else:\n",
    "        res = find_upmost_parent(element.getparent(), parent_list)\n",
    "    return res\n",
    "\n",
    "def isrepresented_by_children(disease, disease_group_tree, disease_res_df, column_name='disease'):\n",
    "    children_diseases = set([item.tag for item in disease_group_tree.getchildren()])\n",
    "    affected_individual_num = disease_res_df['Disease_number_within_Drug_Use'][disease_res_df[column_name]==disease].values[0]\n",
    "    children_affected_individual_num = 0\n",
    "    for child_disease in children_diseases:\n",
    "        if child_disease in disease_res_df[column_name].unique():\n",
    "            children_affected_individual_num += disease_res_df['Disease_number_within_Drug_Use'][disease_res_df[column_name]==child_disease].values[0]\n",
    "    if children_affected_individual_num >= affected_individual_num*0.8:\n",
    "        print(f\"{disease} is fully represnted by its children.\")\n",
    "        return True\n",
    "    else:\n",
    "        return False"
   ]
  },
  {
   "cell_type": "code",
   "execution_count": 81,
   "metadata": {},
   "outputs": [
    {
     "name": "stdout",
     "output_type": "stream",
     "text": [
      "(5939, 10) (1140, 10)\n"
     ]
    }
   ],
   "source": [
    "# read from the xml file\n",
    "disease_et = etree.parse(\"../data/anomalies_ontology.xml\")\n",
    "drug_et = etree.parse(\"../data/medication_atccodes_ontology.xml\")\n",
    "res_df = pd.read_csv('../results/allcombinations_atccodes_results.tsv', sep='\\t')\n",
    "res_othermedication = pd.read_csv('../results/allcombinations_othermedications_results.tsv', sep='\\t')\n",
    "print(res_df.shape, res_othermedication.shape)"
   ]
  },
  {
   "cell_type": "markdown",
   "metadata": {},
   "source": [
    "Filtering criteria:\n",
    "1. More than 10 individuals' mother take this medication and have this anomaly\n",
    "2. p-value (after FDR-BH correction) below 0.05"
   ]
  },
  {
   "cell_type": "code",
   "execution_count": 82,
   "metadata": {},
   "outputs": [
    {
     "name": "stdout",
     "output_type": "stream",
     "text": [
      "(3, 11)\n",
      "(3, 11)\n"
     ]
    }
   ],
   "source": [
    "res_df = res_df[res_df['Disease_number_within_Drug_Use']>5]\n",
    "res_df['corrected_p'] = multipletests(res_df['p'], method='fdr_bh')[1]\n",
    "sig_res_df = res_df[res_df['corrected_p']<0.05]\n",
    "print(sig_res_df.shape)\n",
    "\n",
    "res_othermedication = res_othermedication[res_othermedication['Disease_number_within_Drug_Use']>10]\n",
    "res_othermedication['corrected_p'] = multipletests(res_othermedication['p'], method='fdr_bh')[1]\n",
    "sig_res_othermedication = res_othermedication[res_othermedication['corrected_p']<0.05]\n",
    "print(sig_res_othermedication.shape)\n",
    "\n",
    "sig_res_df.sort_values(by=['corrected_p']).to_csv('../results/significant_atccodes_results.tsv',\n",
    "                                                                 sep='\\t')\n",
    "sig_res_othermedication.sort_values(by=['corrected_p']).to_csv('../results/significant_othermedications_results.tsv',\n",
    "                                                                 sep='\\t')"
   ]
  },
  {
   "cell_type": "markdown",
   "metadata": {},
   "source": [
    "Pruning criteria:\n",
    "1.  If the children objects have more than 80% individuals, then its parent is discarded"
   ]
  },
  {
   "cell_type": "code",
   "execution_count": 69,
   "metadata": {},
   "outputs": [
    {
     "name": "stderr",
     "output_type": "stream",
     "text": [
      "/home/shuang/miniconda3/envs/methylation/lib/python3.7/site-packages/ipykernel_launcher.py:5: SettingWithCopyWarning: \n",
      "A value is trying to be set on a copy of a slice from a DataFrame.\n",
      "Try using .loc[row_indexer,col_indexer] = value instead\n",
      "\n",
      "See the caveats in the documentation: http://pandas.pydata.org/pandas-docs/stable/user_guide/indexing.html#returning-a-view-versus-a-copy\n",
      "  \"\"\"\n",
      "/home/shuang/miniconda3/envs/methylation/lib/python3.7/site-packages/ipykernel_launcher.py:7: SettingWithCopyWarning: \n",
      "A value is trying to be set on a copy of a slice from a DataFrame.\n",
      "Try using .loc[row_indexer,col_indexer] = value instead\n",
      "\n",
      "See the caveats in the documentation: http://pandas.pydata.org/pandas-docs/stable/user_guide/indexing.html#returning-a-view-versus-a-copy\n",
      "  import sys\n",
      "/home/shuang/miniconda3/envs/methylation/lib/python3.7/site-packages/ipykernel_launcher.py:12: SettingWithCopyWarning: \n",
      "A value is trying to be set on a copy of a slice from a DataFrame.\n",
      "Try using .loc[row_indexer,col_indexer] = value instead\n",
      "\n",
      "See the caveats in the documentation: http://pandas.pydata.org/pandas-docs/stable/user_guide/indexing.html#returning-a-view-versus-a-copy\n",
      "  if sys.path[0] == '':\n"
     ]
    }
   ],
   "source": [
    "# add the most upper parent to each medication & anomaly\n",
    "disease_root = disease_et.getroot()\n",
    "parent_list = [item.tag for item in disease_root.getchildren()]\n",
    "sig_res_df['upmost_disease_parent'] = [find_upmost_parent(disease_et.xpath(f'//{disease}')[0], parent_list) \n",
    "                                   for disease in sig_res_df['disease']]\n",
    "sig_res_othermedication['upmost_disease_parent'] = [find_upmost_parent(disease_et.xpath(f'//{disease}')[0], parent_list) \n",
    "                                   for disease in sig_res_othermedication['disease']]\n",
    "\n",
    "drug_root = drug_et.getroot()\n",
    "drug_parent_list = [item.tag for item in drug_root.getchildren()]\n",
    "sig_res_df['upmost_drug_parent'] = [find_upmost_parent(drug_et.xpath(f'//{drug}')[0], drug_parent_list) \n",
    "                                   for drug in sig_res_df['drug']]"
   ]
  },
  {
   "cell_type": "code",
   "execution_count": 72,
   "metadata": {},
   "outputs": [
    {
     "data": {
      "text/html": [
       "<div>\n",
       "<style scoped>\n",
       "    .dataframe tbody tr th:only-of-type {\n",
       "        vertical-align: middle;\n",
       "    }\n",
       "\n",
       "    .dataframe tbody tr th {\n",
       "        vertical-align: top;\n",
       "    }\n",
       "\n",
       "    .dataframe thead th {\n",
       "        text-align: right;\n",
       "    }\n",
       "</style>\n",
       "<table border=\"1\" class=\"dataframe\">\n",
       "  <thead>\n",
       "    <tr style=\"text-align: right;\">\n",
       "      <th></th>\n",
       "      <th>Drug_use_number</th>\n",
       "      <th>Disease_number_within_Drug_Use</th>\n",
       "      <th>Disease_ratio_within_Drug_Use</th>\n",
       "      <th>p</th>\n",
       "      <th>expected_disease_ratio</th>\n",
       "      <th>odds_ratio</th>\n",
       "      <th>odds_ratio_ci_lower</th>\n",
       "      <th>odds_ratio_ci_higher</th>\n",
       "      <th>disease</th>\n",
       "      <th>drug</th>\n",
       "      <th>corrected_p</th>\n",
       "      <th>upmost_disease_parent</th>\n",
       "      <th>upmost_drug_parent</th>\n",
       "      <th>is_represented_by_children_diseases</th>\n",
       "    </tr>\n",
       "  </thead>\n",
       "  <tbody>\n",
       "    <tr>\n",
       "      <th>184</th>\n",
       "      <td>54</td>\n",
       "      <td>7</td>\n",
       "      <td>0.129630</td>\n",
       "      <td>2.038212e-07</td>\n",
       "      <td>1.107692</td>\n",
       "      <td>7.406750</td>\n",
       "      <td>3.292029</td>\n",
       "      <td>16.664475</td>\n",
       "      <td>spinabif</td>\n",
       "      <td>N03T1</td>\n",
       "      <td>1.361525e-04</td>\n",
       "      <td>nervsyst</td>\n",
       "      <td>N03T1</td>\n",
       "      <td>False</td>\n",
       "    </tr>\n",
       "    <tr>\n",
       "      <th>5771</th>\n",
       "      <td>54</td>\n",
       "      <td>8</td>\n",
       "      <td>0.148148</td>\n",
       "      <td>7.556177e-187</td>\n",
       "      <td>0.065587</td>\n",
       "      <td>1279.130435</td>\n",
       "      <td>156.799225</td>\n",
       "      <td>10434.839016</td>\n",
       "      <td>terasyn</td>\n",
       "      <td>N03T1</td>\n",
       "      <td>7.571289e-184</td>\n",
       "      <td>terasyn</td>\n",
       "      <td>N03T1</td>\n",
       "      <td>False</td>\n",
       "    </tr>\n",
       "    <tr>\n",
       "      <th>5790</th>\n",
       "      <td>54</td>\n",
       "      <td>9</td>\n",
       "      <td>0.166667</td>\n",
       "      <td>6.833670e-240</td>\n",
       "      <td>0.065587</td>\n",
       "      <td>2942.400000</td>\n",
       "      <td>168.036130</td>\n",
       "      <td>51522.953856</td>\n",
       "      <td>valproate</td>\n",
       "      <td>N03T1</td>\n",
       "      <td>1.369467e-236</td>\n",
       "      <td>valproate</td>\n",
       "      <td>N03T1</td>\n",
       "      <td>False</td>\n",
       "    </tr>\n",
       "  </tbody>\n",
       "</table>\n",
       "</div>"
      ],
      "text/plain": [
       "      Drug_use_number  Disease_number_within_Drug_Use  \\\n",
       "184                54                               7   \n",
       "5771               54                               8   \n",
       "5790               54                               9   \n",
       "\n",
       "      Disease_ratio_within_Drug_Use              p  expected_disease_ratio  \\\n",
       "184                        0.129630   2.038212e-07                1.107692   \n",
       "5771                       0.148148  7.556177e-187                0.065587   \n",
       "5790                       0.166667  6.833670e-240                0.065587   \n",
       "\n",
       "       odds_ratio  odds_ratio_ci_lower  odds_ratio_ci_higher    disease  \\\n",
       "184      7.406750             3.292029             16.664475   spinabif   \n",
       "5771  1279.130435           156.799225          10434.839016    terasyn   \n",
       "5790  2942.400000           168.036130          51522.953856  valproate   \n",
       "\n",
       "       drug    corrected_p upmost_disease_parent upmost_drug_parent  \\\n",
       "184   N03T1   1.361525e-04              nervsyst              N03T1   \n",
       "5771  N03T1  7.571289e-184               terasyn              N03T1   \n",
       "5790  N03T1  1.369467e-236             valproate              N03T1   \n",
       "\n",
       "      is_represented_by_children_diseases  \n",
       "184                                 False  \n",
       "5771                                False  \n",
       "5790                                False  "
      ]
     },
     "execution_count": 72,
     "metadata": {},
     "output_type": "execute_result"
    }
   ],
   "source": [
    "res_df_noduplicated_diseases"
   ]
  },
  {
   "cell_type": "code",
   "execution_count": 73,
   "metadata": {},
   "outputs": [
    {
     "name": "stderr",
     "output_type": "stream",
     "text": [
      "/home/shuang/miniconda3/envs/methylation/lib/python3.7/site-packages/ipykernel_launcher.py:11: SettingWithCopyWarning: \n",
      "A value is trying to be set on a copy of a slice from a DataFrame.\n",
      "Try using .loc[row_indexer,col_indexer] = value instead\n",
      "\n",
      "See the caveats in the documentation: http://pandas.pydata.org/pandas-docs/stable/user_guide/indexing.html#returning-a-view-versus-a-copy\n",
      "  # This is added back by InteractiveShellApp.init_path()\n",
      "/home/shuang/miniconda3/envs/methylation/lib/python3.7/site-packages/ipykernel_launcher.py:29: SettingWithCopyWarning: \n",
      "A value is trying to be set on a copy of a slice from a DataFrame.\n",
      "Try using .loc[row_indexer,col_indexer] = value instead\n",
      "\n",
      "See the caveats in the documentation: http://pandas.pydata.org/pandas-docs/stable/user_guide/indexing.html#returning-a-view-versus-a-copy\n",
      "/home/shuang/miniconda3/envs/methylation/lib/python3.7/site-packages/ipykernel_launcher.py:48: SettingWithCopyWarning: \n",
      "A value is trying to be set on a copy of a slice from a DataFrame.\n",
      "Try using .loc[row_indexer,col_indexer] = value instead\n",
      "\n",
      "See the caveats in the documentation: http://pandas.pydata.org/pandas-docs/stable/user_guide/indexing.html#returning-a-view-versus-a-copy\n"
     ]
    }
   ],
   "source": [
    "res_df_noduplicated_diseases = pd.DataFrame()\n",
    "# disease_group = 'nervsyst'\n",
    "for disease_group in sig_res_df['upmost_disease_parent'].unique():\n",
    "    drug_list = sig_res_df['drug'][(sig_res_df['upmost_disease_parent']==disease_group)].unique()\n",
    "    for drug in drug_list:\n",
    "        subset_res_df = sig_res_df[(sig_res_df['upmost_disease_parent']==disease_group) & \n",
    "                                   (sig_res_df['drug']==drug)]\n",
    "        subset_res_df['is_represented_by_children_diseases'] = [isrepresented_by_children(disease, \n",
    "                                                                                          disease_et.xpath(f'//{disease}')[0], \n",
    "                                                                                          subset_res_df)\n",
    "                                                                for disease in subset_res_df['disease']]\n",
    "\n",
    "        num = subset_res_df[subset_res_df['is_represented_by_children_diseases']].shape[0]\n",
    "        if num > 0:\n",
    "            print(f\"Deleting {num} diseases that are fully represented in its children.\")\n",
    "        subset_res_df = subset_res_df[subset_res_df['is_represented_by_children_diseases']==False]\n",
    "        res_df_noduplicated_diseases = pd.concat([res_df_noduplicated_diseases, subset_res_df], axis=0)\n",
    "\n",
    "sig_res_othermedication_noduplicated_diseases = pd.DataFrame()\n",
    "# disease_group = 'nervsyst'\n",
    "for disease_group in sig_res_othermedication['upmost_disease_parent'].unique():\n",
    "    drug_list = sig_res_othermedication['drug'][(sig_res_othermedication['upmost_disease_parent']==disease_group)].unique()\n",
    "    for drug in drug_list:\n",
    "        subset_res_df = sig_res_othermedication[(sig_res_othermedication['upmost_disease_parent']==disease_group) & \n",
    "                                                (sig_res_othermedication['drug']==drug)]\n",
    "        subset_res_df['is_represented_by_children_diseases'] = [isrepresented_by_children(disease, \n",
    "                                                                                          disease_et.xpath(f'//{disease}')[0], \n",
    "                                                                                          subset_res_df)\n",
    "                                                                for disease in subset_res_df['disease']]\n",
    "\n",
    "        num = subset_res_df[subset_res_df['is_represented_by_children_diseases']].shape[0]\n",
    "        if num > 0:\n",
    "            print(f\"Deleting {num} diseases that are fully represented in its children.\")\n",
    "        subset_res_df = subset_res_df[subset_res_df['is_represented_by_children_diseases']==False]\n",
    "        sig_res_othermedication_noduplicated_diseases = pd.concat([sig_res_othermedication_noduplicated_diseases, \n",
    "                                                                   subset_res_df], axis=0)\n",
    "    \n",
    "\n",
    "res_df_uniquecombi = pd.DataFrame()\n",
    "for drug_group in res_df_noduplicated_diseases['upmost_drug_parent'].unique():\n",
    "    for disease in res_df_noduplicated_diseases['disease'][res_df_noduplicated_diseases['upmost_drug_parent']==drug_group].unique():\n",
    "        subset_res_df = res_df_noduplicated_diseases[(res_df_noduplicated_diseases['upmost_drug_parent']==drug_group) & \n",
    "                                                     (res_df_noduplicated_diseases['disease']==disease)]\n",
    "        subset_res_df['is_represented_by_children_drugs'] = [isrepresented_by_children(drug, \n",
    "                                                                                       drug_et.xpath(f'//{drug}')[0], \n",
    "                                                                                       subset_res_df,\n",
    "                                                                                       'drug')\n",
    "                                                             for drug in subset_res_df['drug']]\n",
    "        num = subset_res_df[subset_res_df['is_represented_by_children_drugs']].shape[0]\n",
    "        if num > 0:\n",
    "            print(f\"Deleting {num} drug that are fully represented in its children.\")\n",
    "        res_df_uniquecombi = pd.concat([res_df_uniquecombi,\n",
    "                                       subset_res_df[subset_res_df['is_represented_by_children_drugs']==False]],\n",
    "                                       axis=0)"
   ]
  },
  {
   "cell_type": "code",
   "execution_count": 74,
   "metadata": {},
   "outputs": [],
   "source": [
    "# save pruned results\n",
    "import os\n",
    "if not os.path.isdir('../results'):\n",
    "    os.mkdir('../results')\n",
    "res_df_uniquecombi.sort_values(by=['upmost_disease_parent', \n",
    "                                   'upmost_drug_parent']).to_csv('../results/pruned_atccodes_results.tsv',\n",
    "                                                                 sep='\\t')\n",
    "\n",
    "sig_res_othermedication_noduplicated_diseases.sort_values(by=['upmost_disease_parent']).to_csv('../results/pruned_othermedications_results.tsv',\n",
    "                                                                 sep='\\t')"
   ]
  },
  {
   "cell_type": "code",
   "execution_count": null,
   "metadata": {},
   "outputs": [],
   "source": []
  },
  {
   "cell_type": "code",
   "execution_count": null,
   "metadata": {},
   "outputs": [],
   "source": []
  }
 ],
 "metadata": {
  "kernelspec": {
   "display_name": "Python 3",
   "language": "python",
   "name": "python3"
  },
  "language_info": {
   "codemirror_mode": {
    "name": "ipython",
    "version": 3
   },
   "file_extension": ".py",
   "mimetype": "text/x-python",
   "name": "python",
   "nbconvert_exporter": "python",
   "pygments_lexer": "ipython3",
   "version": "3.7.5"
  }
 },
 "nbformat": 4,
 "nbformat_minor": 4
}
