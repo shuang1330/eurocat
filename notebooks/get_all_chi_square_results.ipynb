{
 "cells": [
  {
   "cell_type": "code",
   "execution_count": 21,
   "metadata": {},
   "outputs": [],
   "source": [
    "import pandas as pd\n",
    "import numpy as np\n",
    "from scipy.stats.contingency import expected_freq\n",
    "from scipy.stats import chi2_contingency\n",
    "from statsmodels.stats.contingency_tables import Table2x2\n",
    "from tqdm import tqdm\n",
    "\n",
    "\n",
    "anomalies_list = ['nervsyst', 'anenceph', 'spinabif',\n",
    "       'encephal', 'ntd', 'hydrocep', 'microcep', 'arhinenc', 'eyeanom',\n",
    "       'anophtal', 'micropht', 'glaucoma', 'buphthalmos', 'an_micro',\n",
    "       'cataract', 'earanom', 'earfaceneck', 'anotia', 'heartdef',\n",
    "       'severechd', 'comarttrun', 'dtranspos', 'alltranspos', 'DORV',\n",
    "       'fallot', 'singvent', 'ASD', 'AVSD', 'VSD', 'mVSD', 'pVSD',\n",
    "       'bicuspidao', 'IAA', 'pulmatr', 'pulmsten', 'tricusp', 'ebstein',\n",
    "       'aortsten', 'sub_supra_aortsten', 'hypoleft', 'hyporight',\n",
    "       'patductarte', 'coarctat', 'TAPVR', 'respirat', 'choanatr', 'CCAM',\n",
    "       'lunghypo', 'ofclefts', 'cpalate', 'cleftlip', 'clippal',\n",
    "       'liporpal', 'digestiv', 'oesoph', 'smintest', 'atrsteduode',\n",
    "       'anorecta', 'hirschpr', 'bileatre', 'pananna', 'diahernia',\n",
    "       'pylosten', 'malrotat', 'genital', 'hypospad', 'indetsex',\n",
    "       'urinary', 'bladepi', 'epispadi', 'exbladder', 'bilrenage',\n",
    "       'renaldys', 'multicyst', 'hydronep', 'prunebel', 'posturvalve',\n",
    "       'uretatrsten', 'megauret', 'VUR', 'horsshoe', 'limbanom',\n",
    "       'reddefec', 'reddefup', 'reddeflo', 'limbabs', 'clubft', 'hip',\n",
    "       'polydact', 'polydacthand', 'polydactfeet', 'syndacty',\n",
    "       'syndactyhand', 'syndactyfeet', 'abwaldef', 'gastrosc', 'omphaloc',\n",
    "       'chromoso', 'down', 'patau', 'edwards', 'turner', 'klinefel',\n",
    "       'triploid', 'skeletdys', 'craniosyn', 'amniotic', 'inversus',\n",
    "       'skindis', 'terasyn', 'fetalalcohol', 'valproate', 'MCA',\n",
    "       'hydrops']\n",
    "\n",
    "\n",
    "atccodes_list = ['A01T1', 'A02T1', 'A03T1', 'A04T1', 'A05T1', 'A06T1', 'A07T1',\n",
    "       'A08T1', 'A09T1', 'A10T1', 'A11T1', 'A12T1', 'A13T1', 'A14T1',\n",
    "       'A15T1', 'A16T1', 'B01T1', 'B02T1', 'B03T1', 'B05T1', 'B06T1',\n",
    "       'C01T1', 'C02T1', 'C03T1', 'C04T1', 'C05T1', 'C07T1', 'C08T1',\n",
    "       'C09T1', 'C10T1', 'D01T1', 'D02T1', 'D03T1', 'D04T1', 'D05T1',\n",
    "       'D06T1', 'D07T1', 'D08T1', 'D09T1', 'D10T1', 'D11T1', 'G01T1',\n",
    "       'G02T1', 'G03T1', 'G04T1', 'H01T1', 'H02T1', 'H03T1', 'H04T1',\n",
    "       'H05T1', 'J01T1', 'J02T1', 'J04T1', 'J05T1', 'J06T1', 'J07T1',\n",
    "       'L01T1', 'L02T1', 'L03T1', 'L04T1', 'M01T1', 'M02T1', 'M03T1',\n",
    "       'M04T1', 'M05T1', 'M09T1', 'N01T1', 'N02T1', 'N03T1', 'N04T1',\n",
    "       'N05T1', 'N06T1', 'N07T1', 'P01T1', 'P02T1', 'P03T1', 'R01T1',\n",
    "       'R02T1', 'R03T1', 'R05T1', 'R06T1', 'R07T1', 'S01T1', 'S02T1',\n",
    "       'S03T1', 'V01T1', 'V03T1', 'V04T1', 'V06T1', 'V07T1', 'V08T1',\n",
    "       'V09T1', 'V10T1', 'V20T1', 'A10AT1', 'A10BT1', 'A10XT1', 'A11CT1', 'B03AT1',\n",
    "       'B03BT1', 'B03BB01T1', 'N05AN01T1', 'D01BT1', 'D10BT1', 'G03AT1',\n",
    "       'G03BT1', 'G03CT1', 'G03DT1', 'G03GT1', 'G03HT1', 'G03XT1',\n",
    "       'H01CT1', 'J01AT1', 'J01CT1', 'J01ET1', 'J01FT1', 'J01GT1',\n",
    "       'N02AT1', 'N02AA05T1', 'N02BT1', 'N02CT1', 'N05AT1', 'N05BT1',\n",
    "       'N05CT1', 'N06AT1', 'N06AAT1', 'N06ABT1', 'N06AFT1', 'N06AGT1',\n",
    "       'N06AXT1', 'N06BT1', 'N06CT1', 'N06DT1', 'P01AT1', 'P01BT1',\n",
    "       'P01CT1', 'R01AT1', 'R01BT1', 'R03AT1', 'R03BT1', 'R03CT1',\n",
    "       'R03DT1', 'R05CT1', 'R05DT1', 'S01AT1', 'S01BT1', 'S01ET1',\n",
    "       'S01FT1', 'S01GT1', 'S01HT1', 'S01JT1', 'S01LT1']\n",
    "\n",
    "other_medications_list = ['foliumzuur', 'oxycodon', 'lithium', 'citalopram', 'lamotrigine',\n",
    "       'carbamazepine', 'clobazam', 'valproinezuur', 'Tramadol',\n",
    "       'ondansetron', 'mefloquine', 'hydroxocobalamine', 'escitalopram',\n",
    "       'Tramadolparacetamol', 'omeprazol', 'fluoxetine', 'alprazolam',\n",
    "       'atazanavir', 'emtricitabinetenofovir', 'mirtazapine',\n",
    "       'venlafaxine', 'clomipramine', 'tretinoinecr', 'levetiracetam',\n",
    "       'diethylstilbestrol', 'pertuzumab', 'trastuzumab', 'thiamazol',\n",
    "       'adalimumab', 'cyproteronethinylestradiol', 'gelekoortsvaccin',\n",
    "       'azathioprine', 'prednison', 'beclometasonformoterol',\n",
    "       'prednisolon', 'salbutamol', 'varenicline', 'propylthiouracil',\n",
    "       'nortriptyline', 'olanzapine', 'hydroxychloroquine', 'cetirizine',\n",
    "       'clonazepam', 'haloperidol', 'cabergoline', 'quetiapine',\n",
    "       'tacrolimus', 'cotrimoxazol', 'bupropion', 'lorazepam',\n",
    "       'isotretinoine', 'paroxetine', 'sumatriptan', 'fentanyl',\n",
    "       'papillomavirusvaccin']\n",
    "\n",
    "def get_chi2_results(data, disease, drug):\n",
    "    contigency_table = pd.crosstab(data[drug], data[disease])\n",
    "    use_drug_number = data[(data[drug]==1)].shape[0]\n",
    "    have_disease_number = data[(data[disease]==1)].shape[0]\n",
    "    use_drug_and_have_disease_number = data[(data[disease]==1)&(data[drug]==1)].shape[0]\n",
    "    negative_num = data[(data[disease]==0)&(data[drug]==0)].shape[0]\n",
    "    if use_drug_number * have_disease_number * use_drug_and_have_disease_number * negative_num == 0:\n",
    "        return None\n",
    "    try:\n",
    "        disease_ratio_in_drug_usages = use_drug_and_have_disease_number / use_drug_number\n",
    "        expected_disease_ratio_in_drug_usages = expected_freq(contigency_table)[1][1]\n",
    "        if np.prod(expected_freq(contigency_table)) == 0:\n",
    "            return None\n",
    "        stat, p, dof, expected = chi2_contingency(contigency_table, correction=True)\n",
    "        table = Table2x2(contigency_table)\n",
    "        od = table.oddsratio\n",
    "        od_ci = table.oddsratio_confint(alpha=0.05)\n",
    "        return use_drug_number, use_drug_and_have_disease_number, disease_ratio_in_drug_usages, p, expected_disease_ratio_in_drug_usages, od, od_ci[0], od_ci[1]\n",
    "    except:\n",
    "        print(\"Some kind of error I didn't manage to catch..., see the contingency table below:\")\n",
    "        print(contigency_table)"
   ]
  },
  {
   "cell_type": "code",
   "execution_count": 2,
   "metadata": {},
   "outputs": [
    {
     "name": "stdout",
     "output_type": "stream",
     "text": [
      "(7410, 972)\n"
     ]
    }
   ],
   "source": [
    "# read input file\n",
    "data = pd.read_spss('../data/Basisbestand signaaldetectie_5-7-2021_Shuang.sav')\n",
    "print(data.shape)"
   ]
  },
  {
   "cell_type": "code",
   "execution_count": 24,
   "metadata": {
    "scrolled": false
   },
   "outputs": [],
   "source": [
    "# save results for ATCcodes & anomalies\n",
    "results = []\n",
    "for disease in tqdm(anomalies_list):\n",
    "    for drug in atccodes_list:\n",
    "        item = [get_chi2_results(data, disease, drug), disease, drug]\n",
    "        if item[0] != None:\n",
    "            results.append(list(item[0]) + item[1:])\n",
    "\n",
    "res_df = pd.DataFrame(data=results,\n",
    "                      columns=['Drug_use_number', 'Disease_number_within_Drug_Use', 'Disease_ratio_within_Drug_Use', \n",
    "                               'p', 'expected_disease_ratio', 'odds_ratio', \n",
    "                               'odds_ratio_ci_lower', 'odds_ratio_ci_higher',\n",
    "                               'disease', 'drug'])\n",
    "\n",
    "res_df.to_csv('../results/allcombinations_atccodes_results.tsv', sep='\\t', index=False)"
   ]
  },
  {
   "cell_type": "code",
   "execution_count": 25,
   "metadata": {},
   "outputs": [
    {
     "name": "stderr",
     "output_type": "stream",
     "text": [
      "100%|██████████| 114/114 [08:18<00:00,  4.38s/it]\n"
     ]
    }
   ],
   "source": [
    "# save results for other medications & anomalies\n",
    "other_results = []\n",
    "for disease in tqdm(anomalies_list):\n",
    "    for drug in other_medications_list:\n",
    "        item = [get_chi2_results(data, disease, drug), disease, drug]\n",
    "        if item[0] != None:\n",
    "            other_results.append(list(item[0]) + item[1:])\n",
    "\n",
    "res_df = pd.DataFrame(data=other_results,\n",
    "                      columns=['Drug_use_number', 'Disease_number_within_Drug_Use', 'Disease_ratio_within_Drug_Use', \n",
    "                               'p', 'expected_disease_ratio', 'odds_ratio', \n",
    "                               'odds_ratio_ci_lower', 'odds_ratio_ci_higher',\n",
    "                               'disease', 'drug'])\n",
    "\n",
    "res_df.to_csv('../results/allcombinations_othermedications_results.tsv', sep='\\t', index=False)"
   ]
  },
  {
   "cell_type": "code",
   "execution_count": null,
   "metadata": {},
   "outputs": [],
   "source": []
  },
  {
   "cell_type": "code",
   "execution_count": null,
   "metadata": {},
   "outputs": [],
   "source": []
  }
 ],
 "metadata": {
  "kernelspec": {
   "display_name": "Python 3",
   "language": "python",
   "name": "python3"
  },
  "language_info": {
   "codemirror_mode": {
    "name": "ipython",
    "version": 3
   },
   "file_extension": ".py",
   "mimetype": "text/x-python",
   "name": "python",
   "nbconvert_exporter": "python",
   "pygments_lexer": "ipython3",
   "version": "3.7.5"
  }
 },
 "nbformat": 4,
 "nbformat_minor": 4
}
