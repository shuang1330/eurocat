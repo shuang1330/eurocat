{
 "cells": [
  {
   "cell_type": "code",
   "execution_count": 2,
   "metadata": {},
   "outputs": [],
   "source": [
    "import pandas as pd\n",
    "\n",
    "\n",
    "# Create some Pandas dataframes from some data.\n",
    "save_cols = ['Drug_use_number', 'Disease_number_within_Drug_Use',\n",
    "       'Disease_ratio_within_Drug_Use', 'p', 'expected_disease_ratio',\n",
    "       'odds_ratio', 'odds_ratio_ci_lower', 'odds_ratio_ci_higher', 'disease',\n",
    "       'drug', 'corrected_p']\n",
    "df1 = pd.read_csv('../results/allcombinations_atccodes_results.tsv', sep='\\t')\n",
    "df2 = pd.read_csv('../results/allcombinations_othermedications_results.tsv', sep='\\t')\n",
    "df3 = pd.read_csv('../results/pruned_atccodes_results_noMultiTestCorr.tsv', sep='\\t')\n",
    "df4 = pd.read_csv('../results/pruned_othermedications_results_noMultiTestCorr.tsv', sep='\\t')\n",
    "df5 = pd.read_csv('../results/significant_atccodes_results.tsv', sep='\\t')\n",
    "df6 = pd.read_csv('../results/significant_othermedications_results.tsv', sep='\\t')\n",
    "df7 = pd.read_csv('../results/pruned_atccodes_results.tsv', sep='\\t')\n",
    "df8 = pd.read_csv('../results/pruned_othermedications_results.tsv', sep='\\t')\n",
    "\n",
    "# Create a Pandas Excel writer using XlsxWriter as the engine.\n",
    "writer = pd.ExcelWriter('../results/merged_results.xlsx', engine='xlsxwriter')\n",
    "\n",
    "# Write each dataframe to a different worksheet.\n",
    "df1.to_excel(writer, sheet_name='allcombinations_atccodes')\n",
    "df2.to_excel(writer, sheet_name='allcombinations_othermedi')\n",
    "df3.to_excel(writer, sheet_name='pruned_noMultiTest_atccodes')\n",
    "df4.to_excel(writer, sheet_name='pruned_noMultiTest_othermedi')\n",
    "df5.to_excel(writer, sheet_name='significant_atccodes')\n",
    "df6.to_excel(writer, sheet_name='significant_othermedications')\n",
    "df7[save_cols].to_excel(writer, sheet_name='pruned_sig_atccodes')\n",
    "df8[save_cols].to_excel(writer, sheet_name='pruned_sig_othermedications')\n",
    "\n",
    "# Close the Pandas Excel writer and output the Excel file.\n",
    "writer.save()"
   ]
  },
  {
   "cell_type": "code",
   "execution_count": null,
   "metadata": {},
   "outputs": [],
   "source": []
  },
  {
   "cell_type": "code",
   "execution_count": null,
   "metadata": {},
   "outputs": [],
   "source": []
  },
  {
   "cell_type": "code",
   "execution_count": null,
   "metadata": {},
   "outputs": [],
   "source": []
  }
 ],
 "metadata": {
  "kernelspec": {
   "display_name": "Python 3",
   "language": "python",
   "name": "python3"
  },
  "language_info": {
   "codemirror_mode": {
    "name": "ipython",
    "version": 3
   },
   "file_extension": ".py",
   "mimetype": "text/x-python",
   "name": "python",
   "nbconvert_exporter": "python",
   "pygments_lexer": "ipython3",
   "version": "3.7.5"
  }
 },
 "nbformat": 4,
 "nbformat_minor": 4
}
