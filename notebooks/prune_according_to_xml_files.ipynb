{
 "cells": [
  {
   "cell_type": "code",
   "execution_count": 1,
   "metadata": {},
   "outputs": [],
   "source": [
    "import pandas as pd\n",
    "import numpy as np\n",
    "import statsmodels.api as sm\n",
    "from statsmodels.stats.multitest import multipletests\n",
    "from lxml import etree\n",
    "\n",
    "def find_upmost_parent(element, parent_list):\n",
    "    if element.tag in parent_list:\n",
    "        res = element.tag\n",
    "    elif element.getparent().tag in parent_list:\n",
    "        res = element.getparent().tag\n",
    "    else:\n",
    "        res = find_upmost_parent(element.getparent(), parent_list)\n",
    "    return res\n",
    "\n",
    "def isrepresented_by_children(disease, disease_group_tree, disease_res_df, column_name='disease'):\n",
    "    children_diseases = set([item.tag for item in disease_group_tree.getchildren()])\n",
    "    affected_individual_num = disease_res_df['Disease_number_within_Drug_Use'][disease_res_df[column_name]==disease].values[0]\n",
    "    children_affected_individual_num = 0\n",
    "    for child_disease in children_diseases:\n",
    "        if child_disease in disease_res_df[column_name].unique():\n",
    "            children_affected_individual_num += disease_res_df['Disease_number_within_Drug_Use'][disease_res_df[column_name]==child_disease].values[0]\n",
    "    if children_affected_individual_num >= affected_individual_num*0.8:\n",
    "        print(f\"{disease} is fully represnted by its children.\")\n",
    "        return True\n",
    "    else:\n",
    "        return False"
   ]
  },
  {
   "cell_type": "code",
   "execution_count": 2,
   "metadata": {},
   "outputs": [
    {
     "name": "stdout",
     "output_type": "stream",
     "text": [
      "(5939, 10) (1140, 10)\n"
     ]
    }
   ],
   "source": [
    "# read from the xml file\n",
    "disease_et = etree.parse(\"../data/anomalies_ontology.xml\")\n",
    "drug_et = etree.parse(\"../data/medication_atccodes_ontology.xml\")\n",
    "res_df = pd.read_csv('../results/allcombinations_atccodes_results.tsv', sep='\\t')\n",
    "res_othermedication = pd.read_csv('../results/allcombinations_othermedications_results.tsv', sep='\\t')\n",
    "print(res_df.shape, res_othermedication.shape)"
   ]
  },
  {
   "cell_type": "markdown",
   "metadata": {},
   "source": [
    "Filtering criteria:\n",
    "1. More than 10 individuals' mother take this medication and have this anomaly\n",
    "2. p-value (after FDR-BH correction) below 0.05"
   ]
  },
  {
   "cell_type": "code",
   "execution_count": 3,
   "metadata": {},
   "outputs": [
    {
     "name": "stdout",
     "output_type": "stream",
     "text": [
      "(3, 11)\n",
      "(3, 11)\n"
     ]
    }
   ],
   "source": [
    "res_df = res_df[res_df['Disease_number_within_Drug_Use']>5]\n",
    "res_df['corrected_p'] = multipletests(res_df['p'], method='fdr_bh')[1]\n",
    "sig_res_df = res_df[res_df['corrected_p']<0.05]\n",
    "print(sig_res_df.shape)\n",
    "\n",
    "res_othermedication = res_othermedication[res_othermedication['Disease_number_within_Drug_Use']>10]\n",
    "res_othermedication['corrected_p'] = multipletests(res_othermedication['p'], method='fdr_bh')[1]\n",
    "sig_res_othermedication = res_othermedication[res_othermedication['corrected_p']<0.05]\n",
    "print(sig_res_othermedication.shape)\n",
    "\n",
    "sig_res_df.sort_values(by=['corrected_p']).to_csv('../results/significant_atccodes_results.tsv',\n",
    "                                                                 sep='\\t', index=False)\n",
    "sig_res_othermedication.sort_values(by=['corrected_p']).to_csv('../results/significant_othermedications_results.tsv',\n",
    "                                                                 sep='\\t', index=False)"
   ]
  },
  {
   "cell_type": "markdown",
   "metadata": {},
   "source": [
    "Pruning criteria:\n",
    "1.  If the children objects have more than 80% individuals, then its parent is discarded"
   ]
  },
  {
   "cell_type": "code",
   "execution_count": 4,
   "metadata": {},
   "outputs": [
    {
     "name": "stderr",
     "output_type": "stream",
     "text": [
      "/home/shuang/miniconda3/envs/methylation/lib/python3.7/site-packages/ipykernel_launcher.py:5: SettingWithCopyWarning: \n",
      "A value is trying to be set on a copy of a slice from a DataFrame.\n",
      "Try using .loc[row_indexer,col_indexer] = value instead\n",
      "\n",
      "See the caveats in the documentation: http://pandas.pydata.org/pandas-docs/stable/user_guide/indexing.html#returning-a-view-versus-a-copy\n",
      "  \"\"\"\n",
      "/home/shuang/miniconda3/envs/methylation/lib/python3.7/site-packages/ipykernel_launcher.py:7: SettingWithCopyWarning: \n",
      "A value is trying to be set on a copy of a slice from a DataFrame.\n",
      "Try using .loc[row_indexer,col_indexer] = value instead\n",
      "\n",
      "See the caveats in the documentation: http://pandas.pydata.org/pandas-docs/stable/user_guide/indexing.html#returning-a-view-versus-a-copy\n",
      "  import sys\n",
      "/home/shuang/miniconda3/envs/methylation/lib/python3.7/site-packages/ipykernel_launcher.py:12: SettingWithCopyWarning: \n",
      "A value is trying to be set on a copy of a slice from a DataFrame.\n",
      "Try using .loc[row_indexer,col_indexer] = value instead\n",
      "\n",
      "See the caveats in the documentation: http://pandas.pydata.org/pandas-docs/stable/user_guide/indexing.html#returning-a-view-versus-a-copy\n",
      "  if sys.path[0] == '':\n"
     ]
    }
   ],
   "source": [
    "# add the most upper parent to each medication & anomaly\n",
    "disease_root = disease_et.getroot()\n",
    "parent_list = [item.tag for item in disease_root.getchildren()]\n",
    "sig_res_df['upmost_disease_parent'] = [find_upmost_parent(disease_et.xpath(f'//{disease}')[0], parent_list) \n",
    "                                   for disease in sig_res_df['disease']]\n",
    "sig_res_othermedication['upmost_disease_parent'] = [find_upmost_parent(disease_et.xpath(f'//{disease}')[0], parent_list) \n",
    "                                   for disease in sig_res_othermedication['disease']]\n",
    "\n",
    "drug_root = drug_et.getroot()\n",
    "drug_parent_list = [item.tag for item in drug_root.getchildren()]\n",
    "sig_res_df['upmost_drug_parent'] = [find_upmost_parent(drug_et.xpath(f'//{drug}')[0], drug_parent_list) \n",
    "                                   for drug in sig_res_df['drug']]"
   ]
  },
  {
   "cell_type": "code",
   "execution_count": 5,
   "metadata": {},
   "outputs": [
    {
     "name": "stdout",
     "output_type": "stream",
     "text": [
      "terasyn is fully represnted by its children.\n",
      "Deleting 1 diseases that are fully represented in its children.\n"
     ]
    },
    {
     "name": "stderr",
     "output_type": "stream",
     "text": [
      "/home/shuang/miniconda3/envs/methylation/lib/python3.7/site-packages/ipykernel_launcher.py:11: SettingWithCopyWarning: \n",
      "A value is trying to be set on a copy of a slice from a DataFrame.\n",
      "Try using .loc[row_indexer,col_indexer] = value instead\n",
      "\n",
      "See the caveats in the documentation: http://pandas.pydata.org/pandas-docs/stable/user_guide/indexing.html#returning-a-view-versus-a-copy\n",
      "  # This is added back by InteractiveShellApp.init_path()\n",
      "/home/shuang/miniconda3/envs/methylation/lib/python3.7/site-packages/ipykernel_launcher.py:29: SettingWithCopyWarning: \n",
      "A value is trying to be set on a copy of a slice from a DataFrame.\n",
      "Try using .loc[row_indexer,col_indexer] = value instead\n",
      "\n",
      "See the caveats in the documentation: http://pandas.pydata.org/pandas-docs/stable/user_guide/indexing.html#returning-a-view-versus-a-copy\n",
      "/home/shuang/miniconda3/envs/methylation/lib/python3.7/site-packages/ipykernel_launcher.py:48: SettingWithCopyWarning: \n",
      "A value is trying to be set on a copy of a slice from a DataFrame.\n",
      "Try using .loc[row_indexer,col_indexer] = value instead\n",
      "\n",
      "See the caveats in the documentation: http://pandas.pydata.org/pandas-docs/stable/user_guide/indexing.html#returning-a-view-versus-a-copy\n"
     ]
    }
   ],
   "source": [
    "res_df_noduplicated_diseases = pd.DataFrame()\n",
    "# disease_group = 'nervsyst'\n",
    "for disease_group in sig_res_df['upmost_disease_parent'].unique():\n",
    "    drug_list = sig_res_df['drug'][(sig_res_df['upmost_disease_parent']==disease_group)].unique()\n",
    "    for drug in drug_list:\n",
    "        subset_res_df = sig_res_df[(sig_res_df['upmost_disease_parent']==disease_group) & \n",
    "                                   (sig_res_df['drug']==drug)]\n",
    "        subset_res_df['is_represented_by_children_diseases'] = [isrepresented_by_children(disease, \n",
    "                                                                                          disease_et.xpath(f'//{disease}')[0], \n",
    "                                                                                          subset_res_df)\n",
    "                                                                for disease in subset_res_df['disease']]\n",
    "\n",
    "        num = subset_res_df[subset_res_df['is_represented_by_children_diseases']].shape[0]\n",
    "        if num > 0:\n",
    "            print(f\"Deleting {num} diseases that are fully represented in its children.\")\n",
    "        subset_res_df = subset_res_df[subset_res_df['is_represented_by_children_diseases']==False]\n",
    "        res_df_noduplicated_diseases = pd.concat([res_df_noduplicated_diseases, subset_res_df], axis=0)\n",
    "\n",
    "sig_res_othermedication_noduplicated_diseases = pd.DataFrame()\n",
    "# disease_group = 'nervsyst'\n",
    "for disease_group in sig_res_othermedication['upmost_disease_parent'].unique():\n",
    "    drug_list = sig_res_othermedication['drug'][(sig_res_othermedication['upmost_disease_parent']==disease_group)].unique()\n",
    "    for drug in drug_list:\n",
    "        subset_res_df = sig_res_othermedication[(sig_res_othermedication['upmost_disease_parent']==disease_group) & \n",
    "                                                (sig_res_othermedication['drug']==drug)]\n",
    "        subset_res_df['is_represented_by_children_diseases'] = [isrepresented_by_children(disease, \n",
    "                                                                                          disease_et.xpath(f'//{disease}')[0], \n",
    "                                                                                          subset_res_df)\n",
    "                                                                for disease in subset_res_df['disease']]\n",
    "\n",
    "        num = subset_res_df[subset_res_df['is_represented_by_children_diseases']].shape[0]\n",
    "        if num > 0:\n",
    "            print(f\"Deleting {num} diseases that are fully represented in its children.\")\n",
    "        subset_res_df = subset_res_df[subset_res_df['is_represented_by_children_diseases']==False]\n",
    "        sig_res_othermedication_noduplicated_diseases = pd.concat([sig_res_othermedication_noduplicated_diseases, \n",
    "                                                                   subset_res_df], axis=0)\n",
    "    \n",
    "\n",
    "res_df_uniquecombi = pd.DataFrame()\n",
    "for drug_group in res_df_noduplicated_diseases['upmost_drug_parent'].unique():\n",
    "    for disease in res_df_noduplicated_diseases['disease'][res_df_noduplicated_diseases['upmost_drug_parent']==drug_group].unique():\n",
    "        subset_res_df = res_df_noduplicated_diseases[(res_df_noduplicated_diseases['upmost_drug_parent']==drug_group) & \n",
    "                                                     (res_df_noduplicated_diseases['disease']==disease)]\n",
    "        subset_res_df['is_represented_by_children_drugs'] = [isrepresented_by_children(drug, \n",
    "                                                                                       drug_et.xpath(f'//{drug}')[0], \n",
    "                                                                                       subset_res_df,\n",
    "                                                                                       'drug')\n",
    "                                                             for drug in subset_res_df['drug']]\n",
    "        num = subset_res_df[subset_res_df['is_represented_by_children_drugs']].shape[0]\n",
    "        if num > 0:\n",
    "            print(f\"Deleting {num} drug that are fully represented in its children.\")\n",
    "        res_df_uniquecombi = pd.concat([res_df_uniquecombi,\n",
    "                                       subset_res_df[subset_res_df['is_represented_by_children_drugs']==False]],\n",
    "                                       axis=0)"
   ]
  },
  {
   "cell_type": "code",
   "execution_count": 6,
   "metadata": {},
   "outputs": [],
   "source": [
    "# save pruned results\n",
    "import os\n",
    "if not os.path.isdir('../results'):\n",
    "    os.mkdir('../results')\n",
    "res_df_uniquecombi.sort_values(by=['upmost_disease_parent', \n",
    "                                   'upmost_drug_parent']).to_csv('../results/pruned_atccodes_results.tsv',\n",
    "                                                                 sep='\\t', index=False)\n",
    "\n",
    "sig_res_othermedication_noduplicated_diseases.sort_values(by=['upmost_disease_parent']).to_csv('../results/pruned_othermedications_results.tsv',\n",
    "                                                                 sep='\\t', index=False)"
   ]
  },
  {
   "cell_type": "code",
   "execution_count": null,
   "metadata": {},
   "outputs": [],
   "source": []
  },
  {
   "cell_type": "code",
   "execution_count": null,
   "metadata": {},
   "outputs": [],
   "source": []
  }
 ],
 "metadata": {
  "kernelspec": {
   "display_name": "Python 3",
   "language": "python",
   "name": "python3"
  },
  "language_info": {
   "codemirror_mode": {
    "name": "ipython",
    "version": 3
   },
   "file_extension": ".py",
   "mimetype": "text/x-python",
   "name": "python",
   "nbconvert_exporter": "python",
   "pygments_lexer": "ipython3",
   "version": "3.7.5"
  }
 },
 "nbformat": 4,
 "nbformat_minor": 4
}
